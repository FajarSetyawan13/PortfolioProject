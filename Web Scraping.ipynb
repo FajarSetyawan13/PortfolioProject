{
 "cells": [
  {
   "cell_type": "code",
   "execution_count": 1,
   "id": "ed694356",
   "metadata": {},
   "outputs": [],
   "source": [
    "# Import libraries\n",
    "from bs4 import BeautifulSoup\n",
    "import requests\n",
    "import time\n",
    "import datetime\n",
    "import pandas as pd\n",
    "\n",
    "import smtplib"
   ]
  },
  {
   "cell_type": "code",
   "execution_count": 21,
   "id": "1cfbca7a",
   "metadata": {},
   "outputs": [
    {
     "name": "stdout",
     "output_type": "stream",
     "text": [
      "\n",
      "\n",
      "\n",
      "                   Bertucci Men's 12022 A-2T Original Classics Durable Titanium Field Watch\n",
      "                  \n",
      "\n",
      "\n",
      "\n",
      "\n",
      "\n",
      "                     $144.90\n",
      "                    \n"
     ]
    }
   ],
   "source": [
    "URL = 'https://www.amazon.com/Bertucci-12022-Original-Classics-Titanium/dp/B003BQ08I4/ref=sxin_14?asc_contentid=amzn1.osa.822fd538-64cb-4c6d-a259-8f7161268e92.ATVPDKIKX0DER.en_US&asc_contenttype=article&ascsubtag=amzn1.osa.822fd538-64cb-4c6d-a259-8f7161268e92.ATVPDKIKX0DER.en_US&creativeASIN=B003BQ08I4&cv_ct_cx=swiss+army+watch&cv_ct_id=amzn1.osa.822fd538-64cb-4c6d-a259-8f7161268e92.ATVPDKIKX0DER.en_US&cv_ct_pg=search&cv_ct_we=asin&cv_ct_wn=osp-single-source-earns-comm&keywords=swiss+army+watch&linkCode=oas&pd_rd_i=B003BQ08I4&pd_rd_r=a28355da-5a43-47c3-becb-16b0031eeb61&pd_rd_w=8kIDC&pd_rd_wg=iHcAp&pf_rd_p=b029c82c-aced-48fe-b955-08794dc4e3cd&pf_rd_r=XPF1BTKXP838D6HJDWP7&qid=1645798376&sprefix=%2Caps%2C473&sr=1-1-a3cc9a7a-2f07-46dc-8259-ac02200376a0&tag=04711-20'\n",
    "\n",
    "headers = {\"User-Agent\": \"Mozilla/5.0 (Windows NT 10.0; Win64; x64) AppleWebKit/537.36 (KHTML, like Gecko) Chrome/78.0.3904.108 Safari/537.36\", \"Accept-Encoding\":\"gzip, deflate\", \"Accept\":\"text/html,application/xhtml+xml,application/xml;q=0.9,*/*;q=0.8\", \"DNT\":\"1\",\"Connection\":\"close\", \"Upgrade-Insecure-Requests\":\"1\"}\n",
    "\n",
    "page = requests.get(URL, headers=headers)\n",
    "\n",
    "soup1 = BeautifulSoup(page.content, 'html.parser')\n",
    "\n",
    "soup2 = BeautifulSoup(soup1.prettify(), 'html.parser')\n",
    "\n",
    "title = soup2.find(id='titleSection').get_text()\n",
    "price = soup2.find('span','a-offscreen').get_text()\n",
    "\n",
    "print(title)\n",
    "print(price)\n",
    "\n",
    "\n",
    "\n"
   ]
  },
  {
   "cell_type": "code",
   "execution_count": 22,
   "id": "e728a9c5",
   "metadata": {},
   "outputs": [
    {
     "name": "stdout",
     "output_type": "stream",
     "text": [
      "Bertucci Men's 12022 A-2T Original Classics Durable Titanium Field Watch\n",
      "144.90\n"
     ]
    }
   ],
   "source": [
    "title = title.strip()\n",
    "price = price.strip().replace('$', '')\n",
    " \n",
    "\n",
    "print(title)\n",
    "print(price)"
   ]
  },
  {
   "cell_type": "code",
   "execution_count": 4,
   "id": "90fc1248",
   "metadata": {},
   "outputs": [
    {
     "name": "stdout",
     "output_type": "stream",
     "text": [
      "2022-02-26\n"
     ]
    }
   ],
   "source": [
    "today = datetime.date.today()\n",
    "print(today)"
   ]
  },
  {
   "cell_type": "code",
   "execution_count": 5,
   "id": "83584b0d",
   "metadata": {},
   "outputs": [],
   "source": [
    "import csv\n",
    "\n",
    "header = ['Title', 'Price', 'Date']\n",
    "data = [title, price, today]\n",
    "\n",
    "#Jalankan perintah dibawah sekali saja\n",
    "with open ('AmazonWebScraperDataset.csv', 'w', newline='', encoding='UTF8') as f:\n",
    "    writer = csv.writer(f)\n",
    "    writer.writerow(header)\n",
    "    writer.writerow(data)"
   ]
  },
  {
   "cell_type": "code",
   "execution_count": 6,
   "id": "5654bced",
   "metadata": {},
   "outputs": [
    {
     "name": "stdout",
     "output_type": "stream",
     "text": [
      "                                               Title  Price        Date\n",
      "0  Bertucci Men's 12022 A-2T Original Classics Du...  144.9  2022-02-26\n"
     ]
    }
   ],
   "source": [
    "df = pd.read_csv(r'D:\\Data Analyst\\#Portfolio\\#Portfolio Python\\AmazonWebScraperDataset.csv')\n",
    "\n",
    "print(df)"
   ]
  },
  {
   "cell_type": "code",
   "execution_count": 7,
   "id": "35c7e291",
   "metadata": {},
   "outputs": [],
   "source": [
    "# Sekarang menambahkan data kedalam csv\n",
    "with open ('AmazonWebScraperDataset.csv', 'a+', newline='', encoding='UTF8') as f:\n",
    "    writer = csv.writer(f)\n",
    "    writer.writerow(data)"
   ]
  },
  {
   "cell_type": "code",
   "execution_count": 26,
   "id": "ace4981e",
   "metadata": {},
   "outputs": [],
   "source": [
    "#Fungsi untuk menambahkan/melakukan append kedalam csv\n",
    "\n",
    "def check_price():\n",
    "    URL = 'https://www.amazon.com/Bertucci-12022-Original-Classics-Titanium/dp/B003BQ08I4/ref=sxin_14?asc_contentid=amzn1.osa.822fd538-64cb-4c6d-a259-8f7161268e92.ATVPDKIKX0DER.en_US&asc_contenttype=article&ascsubtag=amzn1.osa.822fd538-64cb-4c6d-a259-8f7161268e92.ATVPDKIKX0DER.en_US&creativeASIN=B003BQ08I4&cv_ct_cx=swiss+army+watch&cv_ct_id=amzn1.osa.822fd538-64cb-4c6d-a259-8f7161268e92.ATVPDKIKX0DER.en_US&cv_ct_pg=search&cv_ct_we=asin&cv_ct_wn=osp-single-source-earns-comm&keywords=swiss+army+watch&linkCode=oas&pd_rd_i=B003BQ08I4&pd_rd_r=a28355da-5a43-47c3-becb-16b0031eeb61&pd_rd_w=8kIDC&pd_rd_wg=iHcAp&pf_rd_p=b029c82c-aced-48fe-b955-08794dc4e3cd&pf_rd_r=XPF1BTKXP838D6HJDWP7&qid=1645798376&sprefix=%2Caps%2C473&sr=1-1-a3cc9a7a-2f07-46dc-8259-ac02200376a0&tag=04711-20'\n",
    "\n",
    "    headers = {\"User-Agent\": \"Mozilla/5.0 (Windows NT 10.0; Win64; x64) AppleWebKit/537.36 (KHTML, like Gecko) Chrome/78.0.3904.108 Safari/537.36\", \"Accept-Encoding\":\"gzip, deflate\", \"Accept\":\"text/html,application/xhtml+xml,application/xml;q=0.9,*/*;q=0.8\", \"DNT\":\"1\",\"Connection\":\"close\", \"Upgrade-Insecure-Requests\":\"1\"}\n",
    "\n",
    "    page = requests.get(URL, headers=headers)\n",
    "\n",
    "    soup1 = BeautifulSoup(page.content, 'html.parser')\n",
    "\n",
    "    soup2 = BeautifulSoup(soup1.prettify(), 'html.parser')\n",
    "\n",
    "    title = soup2.find(id='titleSection').get_text()\n",
    "    price = soup2.find('span','a-offscreen').get_text()\n",
    "    \n",
    "    title = title.strip()\n",
    "    price = price.strip().replace('$', '')\n",
    "    \n",
    "    today = datetime.date.today()\n",
    "    \n",
    "    import csv\n",
    "\n",
    "    header = ['Title', 'Price', 'Date']\n",
    "    data = [title, price, today]\n",
    "    \n",
    "    with open ('AmazonWebScraperDataset.csv', 'a+', newline='', encoding='UTF8') as f:\n",
    "        writer = csv.writer(f)\n",
    "        writer.writerow(data)"
   ]
  },
  {
   "cell_type": "code",
   "execution_count": 27,
   "id": "df225d5d",
   "metadata": {},
   "outputs": [
    {
     "ename": "KeyboardInterrupt",
     "evalue": "",
     "output_type": "error",
     "traceback": [
      "\u001b[1;31m---------------------------------------------------------------------------\u001b[0m",
      "\u001b[1;31mKeyboardInterrupt\u001b[0m                         Traceback (most recent call last)",
      "\u001b[1;32m~\\AppData\\Local\\Temp/ipykernel_10356/2557743461.py\u001b[0m in \u001b[0;36m<module>\u001b[1;34m\u001b[0m\n\u001b[0;32m      5\u001b[0m \u001b[1;32mwhile\u001b[0m\u001b[1;33m(\u001b[0m\u001b[1;32mTrue\u001b[0m\u001b[1;33m)\u001b[0m\u001b[1;33m:\u001b[0m\u001b[1;33m\u001b[0m\u001b[1;33m\u001b[0m\u001b[0m\n\u001b[0;32m      6\u001b[0m     \u001b[0mcheck_price\u001b[0m\u001b[1;33m(\u001b[0m\u001b[1;33m)\u001b[0m\u001b[1;33m\u001b[0m\u001b[1;33m\u001b[0m\u001b[0m\n\u001b[1;32m----> 7\u001b[1;33m     \u001b[0mtime\u001b[0m\u001b[1;33m.\u001b[0m\u001b[0msleep\u001b[0m\u001b[1;33m(\u001b[0m\u001b[1;36m10\u001b[0m\u001b[1;33m)\u001b[0m\u001b[1;33m\u001b[0m\u001b[1;33m\u001b[0m\u001b[0m\n\u001b[0m",
      "\u001b[1;31mKeyboardInterrupt\u001b[0m: "
     ]
    }
   ],
   "source": [
    "#Data akan diappend ke csv sesuai dengan time.sleep yg ditetapkan\n",
    "#Sebagai contoh, dibawah adalah pakai 10 maka setiap 10 detik data baru akan ditambahkan kedalam csv\n",
    "#Salah satu aplikasinya adalah mengetahui harga setiap harinya dari suatu produk, maka tetapkan time.sleep untuk satu hari\n",
    "\n",
    "while(True):\n",
    "    check_price()\n",
    "    time.sleep(10)"
   ]
  },
  {
   "cell_type": "code",
   "execution_count": 28,
   "id": "918777a9",
   "metadata": {},
   "outputs": [
    {
     "name": "stdout",
     "output_type": "stream",
     "text": [
      "                                                Title  Price        Date\n",
      "0   Bertucci Men's 12022 A-2T Original Classics Du...  144.9  2022-02-26\n",
      "1   Bertucci Men's 12022 A-2T Original Classics Du...  144.9  2022-02-26\n",
      "2   Bertucci Men's 12022 A-2T Original Classics Du...  144.9  2022-02-26\n",
      "3   Bertucci Men's 12022 A-2T Original Classics Du...  144.9  2022-02-26\n",
      "4   Bertucci Men's 12022 A-2T Original Classics Du...  144.9  2022-02-26\n",
      "5   Bertucci Men's 12022 A-2T Original Classics Du...  144.9  2022-02-26\n",
      "6   Bertucci Men's 12022 A-2T Original Classics Du...  144.9  2022-02-26\n",
      "7   Bertucci Men's 12022 A-2T Original Classics Du...  144.9  2022-02-26\n",
      "8   Bertucci Men's 12022 A-2T Original Classics Du...  144.9  2022-02-26\n",
      "9   Bertucci Men's 12022 A-2T Original Classics Du...  144.9  2022-02-26\n",
      "10  Bertucci Men's 12022 A-2T Original Classics Du...  144.9  2022-02-26\n"
     ]
    }
   ],
   "source": [
    "import pandas as pd\n",
    "df = pd.read_csv(r'D:\\Data Analyst\\#Portfolio\\#Portfolio Python\\AmazonWebScraperDataset.csv')\n",
    "\n",
    "print(df)"
   ]
  },
  {
   "cell_type": "code",
   "execution_count": null,
   "id": "9042133d",
   "metadata": {},
   "outputs": [],
   "source": []
  }
 ],
 "metadata": {
  "kernelspec": {
   "display_name": "Python 3 (ipykernel)",
   "language": "python",
   "name": "python3"
  },
  "language_info": {
   "codemirror_mode": {
    "name": "ipython",
    "version": 3
   },
   "file_extension": ".py",
   "mimetype": "text/x-python",
   "name": "python",
   "nbconvert_exporter": "python",
   "pygments_lexer": "ipython3",
   "version": "3.8.8"
  }
 },
 "nbformat": 4,
 "nbformat_minor": 5
}
